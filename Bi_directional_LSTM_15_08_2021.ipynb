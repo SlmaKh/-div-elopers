{
  "nbformat": 4,
  "nbformat_minor": 0,
  "metadata": {
    "colab": {
      "name": "Bi_directional_LSTM_15/08/2021.ipynb",
      "provenance": [],
      "mount_file_id": "1KzIHGftpBcOhq5D_3V2ru0uVHgKA6MwD",
      "authorship_tag": "ABX9TyOhrqXBixt05ybw3wZlPFX1",
      "include_colab_link": true
    },
    "kernelspec": {
      "name": "python3",
      "display_name": "Python 3"
    },
    "language_info": {
      "name": "python"
    }
  },
  "cells": [
    {
      "cell_type": "markdown",
      "metadata": {
        "id": "view-in-github",
        "colab_type": "text"
      },
      "source": [
        "<a href=\"https://colab.research.google.com/github/SlmaKh/-div-elopers/blob/master/Bi_directional_LSTM_15_08_2021.ipynb\" target=\"_parent\"><img src=\"https://colab.research.google.com/assets/colab-badge.svg\" alt=\"Open In Colab\"/></a>"
      ]
    },
    {
      "cell_type": "code",
      "metadata": {
        "id": "l-txJJcCCsG6"
      },
      "source": [
        "import numpy as np \n",
        "import pandas as pd\n",
        "import seaborn as sns \n",
        "import matplotlib.pyplot as plt\n",
        "import seaborn as sns\n",
        "from sklearn.model_selection import train_test_split\n",
        "from sklearn.preprocessing import LabelEncoder\n",
        "import keras\n",
        "from keras.models import Sequential\n",
        "from tensorflow.keras.utils import to_categorical\n",
        "from keras.layers import Dense\n",
        "from tensorflow.keras.preprocessing import sequence\n",
        "from keras.layers import Bidirectional, GlobalMaxPool1D\n",
        "from keras.preprocessing.text import Tokenizer\n",
        "from keras.layers import LSTM \n",
        "from keras.layers import Embedding, Activation, Dense, Dropout, Input, Concatenate\n",
        "import tensorflow as tf\n"
      ],
      "execution_count": 1,
      "outputs": []
    },
    {
      "cell_type": "code",
      "metadata": {
        "id": "ajJTJHH3C0Bl"
      },
      "source": [
        "from sklearn.metrics import accuracy_score\n",
        "from sklearn.metrics import f1_score\n",
        "from sklearn.metrics import roc_auc_score\n",
        "from sklearn.metrics import precision_score\n",
        "from sklearn.metrics import recall_score\n",
        "from sklearn.metrics import confusion_matrix\n",
        "from sklearn.metrics import multilabel_confusion_matrix"
      ],
      "execution_count": 2,
      "outputs": []
    },
    {
      "cell_type": "code",
      "metadata": {
        "id": "E8cM8ei7C55o"
      },
      "source": [
        "def plot_confusion_matrix(matrix, title):\n",
        "  group_names = ['True Neg','False Pos','False Neg','True Pos']\n",
        "  group_counts = [\"{0:0.0f}\".format(value) for value in\n",
        "                matrix.flatten()]\n",
        "  group_percentages = [\"{0:.2%}\".format(value) for value in\n",
        "                     matrix.flatten()/np.sum(matrix)]\n",
        "  labels = [f\"{v1}\\n{v2}\\n{v3}\" for v1, v2, v3 in\n",
        "          zip(group_names,group_counts,group_percentages)]\n",
        "  labels = np.asarray(labels).reshape(2,2)\n",
        "  sns.heatmap(matrix, annot=labels, fmt='', cmap='Blues')\n",
        "  plt.title('Confusion matrix for ' +title)"
      ],
      "execution_count": 3,
      "outputs": []
    },
    {
      "cell_type": "code",
      "metadata": {
        "colab": {
          "base_uri": "https://localhost:8080/"
        },
        "id": "gyzOHYMHC-hh",
        "outputId": "09ca8a54-c931-4a10-ef5a-4d7078e0616b"
      },
      "source": [
        "!pip install tensorflow_addons"
      ],
      "execution_count": 4,
      "outputs": [
        {
          "output_type": "stream",
          "text": [
            "Collecting tensorflow_addons\n",
            "  Downloading tensorflow_addons-0.13.0-cp37-cp37m-manylinux2010_x86_64.whl (679 kB)\n",
            "\u001b[?25l\r\u001b[K     |▌                               | 10 kB 27.3 MB/s eta 0:00:01\r\u001b[K     |█                               | 20 kB 30.2 MB/s eta 0:00:01\r\u001b[K     |█▌                              | 30 kB 12.3 MB/s eta 0:00:01\r\u001b[K     |██                              | 40 kB 9.3 MB/s eta 0:00:01\r\u001b[K     |██▍                             | 51 kB 5.1 MB/s eta 0:00:01\r\u001b[K     |███                             | 61 kB 5.5 MB/s eta 0:00:01\r\u001b[K     |███▍                            | 71 kB 5.9 MB/s eta 0:00:01\r\u001b[K     |███▉                            | 81 kB 6.5 MB/s eta 0:00:01\r\u001b[K     |████▍                           | 92 kB 6.4 MB/s eta 0:00:01\r\u001b[K     |████▉                           | 102 kB 5.3 MB/s eta 0:00:01\r\u001b[K     |█████▎                          | 112 kB 5.3 MB/s eta 0:00:01\r\u001b[K     |█████▉                          | 122 kB 5.3 MB/s eta 0:00:01\r\u001b[K     |██████▎                         | 133 kB 5.3 MB/s eta 0:00:01\r\u001b[K     |██████▊                         | 143 kB 5.3 MB/s eta 0:00:01\r\u001b[K     |███████▎                        | 153 kB 5.3 MB/s eta 0:00:01\r\u001b[K     |███████▊                        | 163 kB 5.3 MB/s eta 0:00:01\r\u001b[K     |████████▏                       | 174 kB 5.3 MB/s eta 0:00:01\r\u001b[K     |████████▊                       | 184 kB 5.3 MB/s eta 0:00:01\r\u001b[K     |█████████▏                      | 194 kB 5.3 MB/s eta 0:00:01\r\u001b[K     |█████████▋                      | 204 kB 5.3 MB/s eta 0:00:01\r\u001b[K     |██████████▏                     | 215 kB 5.3 MB/s eta 0:00:01\r\u001b[K     |██████████▋                     | 225 kB 5.3 MB/s eta 0:00:01\r\u001b[K     |███████████                     | 235 kB 5.3 MB/s eta 0:00:01\r\u001b[K     |███████████▋                    | 245 kB 5.3 MB/s eta 0:00:01\r\u001b[K     |████████████                    | 256 kB 5.3 MB/s eta 0:00:01\r\u001b[K     |████████████▌                   | 266 kB 5.3 MB/s eta 0:00:01\r\u001b[K     |█████████████                   | 276 kB 5.3 MB/s eta 0:00:01\r\u001b[K     |█████████████▌                  | 286 kB 5.3 MB/s eta 0:00:01\r\u001b[K     |██████████████                  | 296 kB 5.3 MB/s eta 0:00:01\r\u001b[K     |██████████████▌                 | 307 kB 5.3 MB/s eta 0:00:01\r\u001b[K     |███████████████                 | 317 kB 5.3 MB/s eta 0:00:01\r\u001b[K     |███████████████▍                | 327 kB 5.3 MB/s eta 0:00:01\r\u001b[K     |████████████████                | 337 kB 5.3 MB/s eta 0:00:01\r\u001b[K     |████████████████▍               | 348 kB 5.3 MB/s eta 0:00:01\r\u001b[K     |████████████████▉               | 358 kB 5.3 MB/s eta 0:00:01\r\u001b[K     |█████████████████▍              | 368 kB 5.3 MB/s eta 0:00:01\r\u001b[K     |█████████████████▉              | 378 kB 5.3 MB/s eta 0:00:01\r\u001b[K     |██████████████████▎             | 389 kB 5.3 MB/s eta 0:00:01\r\u001b[K     |██████████████████▉             | 399 kB 5.3 MB/s eta 0:00:01\r\u001b[K     |███████████████████▎            | 409 kB 5.3 MB/s eta 0:00:01\r\u001b[K     |███████████████████▊            | 419 kB 5.3 MB/s eta 0:00:01\r\u001b[K     |████████████████████▎           | 430 kB 5.3 MB/s eta 0:00:01\r\u001b[K     |████████████████████▊           | 440 kB 5.3 MB/s eta 0:00:01\r\u001b[K     |█████████████████████▏          | 450 kB 5.3 MB/s eta 0:00:01\r\u001b[K     |█████████████████████▊          | 460 kB 5.3 MB/s eta 0:00:01\r\u001b[K     |██████████████████████▏         | 471 kB 5.3 MB/s eta 0:00:01\r\u001b[K     |██████████████████████▋         | 481 kB 5.3 MB/s eta 0:00:01\r\u001b[K     |███████████████████████▏        | 491 kB 5.3 MB/s eta 0:00:01\r\u001b[K     |███████████████████████▋        | 501 kB 5.3 MB/s eta 0:00:01\r\u001b[K     |████████████████████████        | 512 kB 5.3 MB/s eta 0:00:01\r\u001b[K     |████████████████████████▋       | 522 kB 5.3 MB/s eta 0:00:01\r\u001b[K     |█████████████████████████       | 532 kB 5.3 MB/s eta 0:00:01\r\u001b[K     |█████████████████████████▌      | 542 kB 5.3 MB/s eta 0:00:01\r\u001b[K     |██████████████████████████      | 552 kB 5.3 MB/s eta 0:00:01\r\u001b[K     |██████████████████████████▌     | 563 kB 5.3 MB/s eta 0:00:01\r\u001b[K     |███████████████████████████     | 573 kB 5.3 MB/s eta 0:00:01\r\u001b[K     |███████████████████████████▌    | 583 kB 5.3 MB/s eta 0:00:01\r\u001b[K     |████████████████████████████    | 593 kB 5.3 MB/s eta 0:00:01\r\u001b[K     |████████████████████████████▍   | 604 kB 5.3 MB/s eta 0:00:01\r\u001b[K     |█████████████████████████████   | 614 kB 5.3 MB/s eta 0:00:01\r\u001b[K     |█████████████████████████████▍  | 624 kB 5.3 MB/s eta 0:00:01\r\u001b[K     |█████████████████████████████▉  | 634 kB 5.3 MB/s eta 0:00:01\r\u001b[K     |██████████████████████████████▍ | 645 kB 5.3 MB/s eta 0:00:01\r\u001b[K     |██████████████████████████████▉ | 655 kB 5.3 MB/s eta 0:00:01\r\u001b[K     |███████████████████████████████▎| 665 kB 5.3 MB/s eta 0:00:01\r\u001b[K     |███████████████████████████████▉| 675 kB 5.3 MB/s eta 0:00:01\r\u001b[K     |████████████████████████████████| 679 kB 5.3 MB/s \n",
            "\u001b[?25hRequirement already satisfied: typeguard>=2.7 in /usr/local/lib/python3.7/dist-packages (from tensorflow_addons) (2.7.1)\n",
            "Installing collected packages: tensorflow-addons\n",
            "Successfully installed tensorflow-addons-0.13.0\n"
          ],
          "name": "stdout"
        }
      ]
    },
    {
      "cell_type": "code",
      "metadata": {
        "id": "F7jha0mPDAkh"
      },
      "source": [
        "test = pd.read_csv(\"drive/MyDrive/Colab Notebooks/Bachelor Thesis/test_prepared.csv\")\n",
        "train = pd.read_csv(\"drive/MyDrive/Colab Notebooks/Bachelor Thesis/train_subset.csv\")"
      ],
      "execution_count": 5,
      "outputs": []
    },
    {
      "cell_type": "code",
      "metadata": {
        "id": "McJD4q1_DC4-"
      },
      "source": [
        "list_sentences_train = train[\"comment_text\"]\n",
        "list_sentences_test = test[\"comment_text\"]"
      ],
      "execution_count": 6,
      "outputs": []
    },
    {
      "cell_type": "markdown",
      "metadata": {
        "id": "9B3UixUJDNRs"
      },
      "source": [
        "#**Tokenize the data**"
      ]
    },
    {
      "cell_type": "code",
      "metadata": {
        "id": "EDM9z2jaDEk4"
      },
      "source": [
        "max_features = 20000\n",
        "tokenizer = Tokenizer(num_words=max_features)\n",
        "tokenizer.fit_on_texts(list(list_sentences_train))\n",
        "list_tokenized_train = tokenizer.texts_to_sequences(list_sentences_train)\n",
        "list_tokenized_test = tokenizer.texts_to_sequences(list_sentences_test)\n"
      ],
      "execution_count": 7,
      "outputs": []
    },
    {
      "cell_type": "code",
      "metadata": {
        "id": "-UDeVoU1J9-B"
      },
      "source": [
        "word_index = tokenizer.word_index"
      ],
      "execution_count": 8,
      "outputs": []
    },
    {
      "cell_type": "code",
      "metadata": {
        "id": "AeTMZVDZDWj7"
      },
      "source": [
        "maxlen = 200\n",
        "X_t = sequence.pad_sequences(list_tokenized_train, maxlen=maxlen)\n",
        "X_te = sequence.pad_sequences(list_tokenized_test, maxlen=maxlen)"
      ],
      "execution_count": 9,
      "outputs": []
    },
    {
      "cell_type": "code",
      "metadata": {
        "id": "VdQSuNHmDbWS"
      },
      "source": [
        "totalNumWords = [len(one_comment) for one_comment in list_tokenized_train]\n"
      ],
      "execution_count": 10,
      "outputs": []
    },
    {
      "cell_type": "code",
      "metadata": {
        "colab": {
          "base_uri": "https://localhost:8080/",
          "height": 266
        },
        "id": "JjYbQjszDeoa",
        "outputId": "0090fe88-6a8b-4d58-ea35-53fd40553d15"
      },
      "source": [
        "plt.hist(totalNumWords,bins = np.arange(0,410,10))#[0,50,100,150,200,250,300,350,400])#,450,500,550,600,650,700,750,800,850,900])\n",
        "plt.show()"
      ],
      "execution_count": 11,
      "outputs": [
        {
          "output_type": "display_data",
          "data": {
            "image/png": "[encoded data removed]",
            "text/plain": [
              "<Figure size 432x288 with 1 Axes>"
            ]
          },
          "metadata": {
            "tags": [],
            "needs_background": "light"
          }
        }
      ]
    },
    {
      "cell_type": "markdown",
      "metadata": {
        "id": "K_WEF8iDKQVG"
      },
      "source": [
        "#**Model for all labels**"
      ]
    },
    {
      "cell_type": "code",
      "metadata": {
        "id": "wWLAIcnbKDSA"
      },
      "source": [
        "from keras.models import Model\n",
        "\n",
        "inp = Input(shape=(maxlen, ))\n",
        "x = Embedding(len(word_index) + 1,\n",
        "              300,\n",
        "              input_length = maxlen,\n",
        "              name = 'embeddings')(inp)\n",
        "x = Bidirectional(LSTM(50, return_sequences=True,name='lstm_layer'))(x)\n",
        "x = GlobalMaxPool1D()(x)\n",
        "x = Dropout(0.2)(x)\n",
        "x = Dense(40, activation=\"relu\", kernel_initializer='he_uniform')(x)\n",
        "x = Dropout(0.2)(x)\n",
        "x = Dense(6, activation=\"sigmoid\", kernel_initializer='glorot_uniform')(x)\n",
        "model_all_labels = Model(inputs=inp, outputs=x)\n",
        "model_all_labels.compile(loss='binary_crossentropy',\n",
        "                  optimizer='adam',\n",
        "                  metrics=['accuracy'])"
      ],
      "execution_count": 12,
      "outputs": []
    },
    {
      "cell_type": "code",
      "metadata": {
        "id": "BYQo_XRwKwpu"
      },
      "source": [
        "list_classes = [\"toxic\", \"severe_toxicity\", \"obscene\", \"threat\", \"insult\", \"identity_attack\"]\n",
        "y_train_all_labels = train[list_classes].values\n",
        "y_test_all_labels = test[list_classes].values"
      ],
      "execution_count": 13,
      "outputs": []
    },
    {
      "cell_type": "code",
      "metadata": {
        "colab": {
          "base_uri": "https://localhost:8080/"
        },
        "id": "afyBChAbK1XT",
        "outputId": "62db4502-cd6e-4821-a41b-57a5c21038f7"
      },
      "source": [
        "batch_size = 32\n",
        "epochs = 2\n",
        "model_all_labels.fit(X_t,y_train_all_labels, batch_size=batch_size, epochs=epochs, validation_split=0.1)"
      ],
      "execution_count": 14,
      "outputs": [
        {
          "output_type": "stream",
          "text": [
            "Epoch 1/2\n",
            "4634/4634 [==============================] - 2796s 598ms/step - loss: 0.2065 - accuracy: 0.9272 - val_loss: 0.1266 - val_accuracy: 0.9959\n",
            "Epoch 2/2\n",
            "4634/4634 [==============================] - 2772s 598ms/step - loss: 0.1191 - accuracy: 0.9777 - val_loss: 0.1214 - val_accuracy: 0.9933\n"
          ],
          "name": "stdout"
        },
        {
          "output_type": "execute_result",
          "data": {
            "text/plain": [
              "<keras.callbacks.History at 0x7f409159c090>"
            ]
          },
          "metadata": {
            "tags": []
          },
          "execution_count": 14
        }
      ]
    },
    {
      "cell_type": "markdown",
      "metadata": {
        "id": "Alpm69_oUteO"
      },
      "source": [
        "##Prediction"
      ]
    },
    {
      "cell_type": "code",
      "metadata": {
        "colab": {
          "base_uri": "https://localhost:8080/"
        },
        "id": "b6CmTe8o2_0e",
        "outputId": "29812ce9-2af2-4eed-b79d-3ddaca245218"
      },
      "source": [
        "X_te.shape"
      ],
      "execution_count": 15,
      "outputs": [
        {
          "output_type": "execute_result",
          "data": {
            "text/plain": [
              "(97320, 200)"
            ]
          },
          "metadata": {
            "tags": []
          },
          "execution_count": 15
        }
      ]
    },
    {
      "cell_type": "code",
      "metadata": {
        "id": "EFPoFT_eK3r_"
      },
      "source": [
        "model_all_labels_test_prediction = model_all_labels.predict(X_te)"
      ],
      "execution_count": 16,
      "outputs": []
    },
    {
      "cell_type": "code",
      "metadata": {
        "id": "57mGzT0tUs7G"
      },
      "source": [
        ""
      ],
      "execution_count": null,
      "outputs": []
    },
    {
      "cell_type": "markdown",
      "metadata": {
        "id": "6GIriLVUU0Xl"
      },
      "source": [
        "##Model evaluation"
      ]
    },
    {
      "cell_type": "code",
      "metadata": {
        "id": "fkLtQnBbUy8u"
      },
      "source": [
        "import copy\n",
        "def convert_to_binary1(predictions):\n",
        "  temp = copy.deepcopy(predictions)\n",
        "  temp[temp>=0.8] = 1\n",
        "  temp[temp<0.8] = 0\n",
        "  return temp"
      ],
      "execution_count": 29,
      "outputs": []
    },
    {
      "cell_type": "code",
      "metadata": {
        "id": "-7dpbbC5K-mf"
      },
      "source": [
        "model_all_label_test_predictions_binary = convert_to_binary1(model_all_labels_test_prediction)"
      ],
      "execution_count": 30,
      "outputs": []
    },
    {
      "cell_type": "code",
      "metadata": {
        "colab": {
          "base_uri": "https://localhost:8080/"
        },
        "id": "mMi1h4XfVHux",
        "outputId": "8d0bc374-4940-4cf7-c536-904df7e31e87"
      },
      "source": [
        "print(\"Test all label Accuracy = \",accuracy_score(y_test_all_labels,model_all_label_test_predictions_binary))\n",
        "print(\"Test all label f1 score micro \", f1_score(y_test_all_labels, model_all_label_test_predictions_binary, average = 'micro'))\n",
        "print(\"Test all label f1 score  macro\", f1_score(y_test_all_labels, model_all_label_test_predictions_binary, average = 'macro'))\n",
        "\n",
        "print(\"Test all label AUC is micro \", roc_auc_score(y_test_all_labels, model_all_labels_test_prediction, average = 'micro'))\n",
        "# print(\"Test multilabel AUC is macro \", roc_auc_score(y_test_multilabel, test_predictions_multilabel5_binary, average = 'macro'))\n",
        "\n",
        "print(\"The all label test precision micro is \", precision_score(y_test_all_labels, model_all_label_test_predictions_binary, average = 'micro'))\n",
        "print(\"The all label test precision macro is \", precision_score(y_test_all_labels, model_all_label_test_predictions_binary, average = 'macro'))\n",
        "\n",
        "print(\"The all label test recall micro is \", recall_score(y_test_all_labels, model_all_label_test_predictions_binary, average = 'micro'))\n",
        "print(\"The all label test recall macro is \", recall_score(y_test_all_labels, model_all_label_test_predictions_binary, average = 'macro'))\n"
      ],
      "execution_count": 31,
      "outputs": [
        {
          "output_type": "stream",
          "text": [
            "Test all label Accuracy =  0.845242498972462\n",
            "Test all label f1 score micro  0.4831999065038275\n",
            "Test all label f1 score  macro 0.30789259265060126\n"
          ],
          "name": "stdout"
        },
        {
          "output_type": "stream",
          "text": [
            "/usr/local/lib/python3.7/dist-packages/sklearn/metrics/_classification.py:1515: UndefinedMetricWarning: F-score is ill-defined and being set to 0.0 in labels with no true nor predicted samples. Use `zero_division` parameter to control this behavior.\n",
            "  average, \"true nor predicted\", 'F-score is', len(true_sum)\n"
          ],
          "name": "stderr"
        },
        {
          "output_type": "stream",
          "text": [
            "Test all label AUC is micro  0.9653936395722233\n",
            "The all label test precision micro is  0.42683115676456923\n",
            "The all label test precision macro is  0.424786680940763\n",
            "The all label test recall micro is  0.5567225476334747\n",
            "The all label test recall macro is  0.3039611102189876\n"
          ],
          "name": "stdout"
        },
        {
          "output_type": "stream",
          "text": [
            "/usr/local/lib/python3.7/dist-packages/sklearn/metrics/_classification.py:1272: UndefinedMetricWarning: Precision is ill-defined and being set to 0.0 in labels with no predicted samples. Use `zero_division` parameter to control this behavior.\n",
            "  _warn_prf(average, modifier, msg_start, len(result))\n",
            "/usr/local/lib/python3.7/dist-packages/sklearn/metrics/_classification.py:1272: UndefinedMetricWarning: Recall is ill-defined and being set to 0.0 in labels with no true samples. Use `zero_division` parameter to control this behavior.\n",
            "  _warn_prf(average, modifier, msg_start, len(result))\n"
          ],
          "name": "stderr"
        }
      ]
    },
    {
      "cell_type": "code",
      "metadata": {
        "colab": {
          "base_uri": "https://localhost:8080/"
        },
        "id": "IVIPZAI8VWo7",
        "outputId": "ef82429e-ef80-4af5-b774-5271e81b4871"
      },
      "source": [
        "confusion_matrix_all_label = multilabel_confusion_matrix(y_test_all_labels, model_all_label_test_predictions_binary)\n",
        "confusion_matrix_all_label"
      ],
      "execution_count": 32,
      "outputs": [
        {
          "output_type": "execute_result",
          "data": {
            "text/plain": [
              "array([[[79417, 10232],\n",
              "        [ 1981,  5690]],\n",
              "\n",
              "       [[97320,     0],\n",
              "        [    0,     0]],\n",
              "\n",
              "       [[96688,   107],\n",
              "        [  324,   201]],\n",
              "\n",
              "       [[97085,    11],\n",
              "        [  218,     6]],\n",
              "\n",
              "       [[91213,   338],\n",
              "        [ 3593,  2176]],\n",
              "\n",
              "       [[96240,   416],\n",
              "        [  468,   196]]])"
            ]
          },
          "metadata": {
            "tags": []
          },
          "execution_count": 32
        }
      ]
    },
    {
      "cell_type": "code",
      "metadata": {
        "colab": {
          "base_uri": "https://localhost:8080/",
          "height": 281
        },
        "id": "h45gXdRUAQLe",
        "outputId": "01666725-bc4c-4f51-bf36-21c5ba19fd25"
      },
      "source": [
        "plot_confusion_matrix(confusion_matrix_all_label[0], \"toxic\")"
      ],
      "execution_count": 33,
      "outputs": [
        {
          "output_type": "display_data",
          "data": {
            "image/png": "[encoded data removed]",
            "text/plain": [
              "<Figure size 432x288 with 2 Axes>"
            ]
          },
          "metadata": {
            "tags": [],
            "needs_background": "light"
          }
        }
      ]
    },
    {
      "cell_type": "code",
      "metadata": {
        "colab": {
          "base_uri": "https://localhost:8080/",
          "height": 281
        },
        "id": "RC5YcMgVEy7Q",
        "outputId": "bee202fa-5902-4e4b-e403-cc1a4e7dc33d"
      },
      "source": [
        "plot_confusion_matrix(confusion_matrix_all_label[1], \"severe toxicity\")"
      ],
      "execution_count": 34,
      "outputs": [
        {
          "output_type": "display_data",
          "data": {
            "image/png": "[encoded data removed]",
            "text/plain": [
              "<Figure size 432x288 with 2 Axes>"
            ]
          },
          "metadata": {
            "tags": [],
            "needs_background": "light"
          }
        }
      ]
    },
    {
      "cell_type": "code",
      "metadata": {
        "colab": {
          "base_uri": "https://localhost:8080/",
          "height": 281
        },
        "id": "be2p135-E4lc",
        "outputId": "66ed6204-b6d4-44d8-ff8c-e38da771644c"
      },
      "source": [
        "plot_confusion_matrix(confusion_matrix_all_label[2], \"obscene\")"
      ],
      "execution_count": 35,
      "outputs": [
        {
          "output_type": "display_data",
          "data": {
            "image/png": "[encoded data removed]",
            "text/plain": [
              "<Figure size 432x288 with 2 Axes>"
            ]
          },
          "metadata": {
            "tags": [],
            "needs_background": "light"
          }
        }
      ]
    },
    {
      "cell_type": "code",
      "metadata": {
        "colab": {
          "base_uri": "https://localhost:8080/",
          "height": 281
        },
        "id": "15OmGPu_E9Mr",
        "outputId": "78801cb1-821f-4c25-91d5-2727999e33c7"
      },
      "source": [
        "plot_confusion_matrix(confusion_matrix_all_label[3], \"threat\")"
      ],
      "execution_count": 36,
      "outputs": [
        {
          "output_type": "display_data",
          "data": {
            "image/png": "[encoded data removed]",
            "text/plain": [
              "<Figure size 432x288 with 2 Axes>"
            ]
          },
          "metadata": {
            "tags": [],
            "needs_background": "light"
          }
        }
      ]
    },
    {
      "cell_type": "code",
      "metadata": {
        "colab": {
          "base_uri": "https://localhost:8080/",
          "height": 281
        },
        "id": "fUku0afbE_nz",
        "outputId": "fd70c32f-d240-41a6-9708-3732369c433c"
      },
      "source": [
        "plot_confusion_matrix(confusion_matrix_all_label[4], \"insult\")"
      ],
      "execution_count": 37,
      "outputs": [
        {
          "output_type": "display_data",
          "data": {
            "image/png": "[encoded data removed]",
            "text/plain": [
              "<Figure size 432x288 with 2 Axes>"
            ]
          },
          "metadata": {
            "tags": [],
            "needs_background": "light"
          }
        }
      ]
    },
    {
      "cell_type": "code",
      "metadata": {
        "colab": {
          "base_uri": "https://localhost:8080/",
          "height": 281
        },
        "id": "3ZOflu-yFDuD",
        "outputId": "9190bb93-ef6c-4c89-a24a-73e4b518f11b"
      },
      "source": [
        "plot_confusion_matrix(confusion_matrix_all_label[5], \"identity attack\")"
      ],
      "execution_count": 38,
      "outputs": [
        {
          "output_type": "display_data",
          "data": {
            "image/png": "[encoded data removed]",
            "text/plain": [
              "<Figure size 432x288 with 2 Axes>"
            ]
          },
          "metadata": {
            "tags": [],
            "needs_background": "light"
          }
        }
      ]
    },
    {
      "cell_type": "code",
      "metadata": {
        "id": "JEELSFaf4DKK"
      },
      "source": [
        ""
      ],
      "execution_count": 38,
      "outputs": []
    }
  ]
}